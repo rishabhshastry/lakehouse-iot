{
 "cells": [
  {
   "cell_type": "markdown",
   "metadata": {
    "application/vnd.databricks.v1+cell": {
     "cellMetadata": {},
     "inputWidgets": {},
     "nuid": "2c9dc910-3e06-44ae-b005-7a3729a55491",
     "showTitle": false,
     "tableResultSettingsMap": {},
     "title": ""
    }
   },
   "source": [
    "## Configuration file\n",
    "\n",
    "Please change your catalog and schema here to run the demo on a different catalog.\n",
    "\n",
    " \n",
    "<!-- Collect usage data (view). Remove it to disable collection. View README for more details.  -->\n",
    "<img width=\"1px\" src=\"https://ppxrzfxige.execute-api.us-west-2.amazonaws.com/v1/analytics?category=lakehouse&org_id=1444828305810485&notebook=%2Fconfig&demo_name=lakehouse-iot-platform&event=VIEW&path=%2F_dbdemos%2Flakehouse%2Flakehouse-iot-platform%2Fconfig&version=1&user_hash=285b361d244545c3c8d34d28625a163a3358e9bd9b085d42cefe76c0b086ca5d\">"
   ]
  },
  {
   "cell_type": "code",
   "execution_count": 0,
   "metadata": {
    "application/vnd.databricks.v1+cell": {
     "cellMetadata": {},
     "inputWidgets": {},
     "nuid": "dae1c5ad-ba35-49b8-aa6e-4d8620a41c49",
     "showTitle": false,
     "tableResultSettingsMap": {},
     "title": ""
    }
   },
   "outputs": [],
   "source": [
    "#Note: we do not recommend to change the catalog here as it won't impact all the demo resources such as DLT pipeline and Dashboards.\n",
    "#Instead, please re-install the demo with a specific catalog and schema using dbdemos.install(\"lakehouse-retail-c360\", catalog=\"..\", schema=\"...\")\n",
    "\n",
    "catalog = \"main\"\n",
    "schema = dbName = db = \"dbdemos_iot_turbine_team3_fs\"\n",
    "\n",
    "secret_scope_name = \"dbdemos\"\n",
    "secret_key_name = \"ai_agent_sp_token\"\n",
    "\n",
    "MODEL_SERVING_ENDPOINT_NAME   = \"dbdemos_iot_turbine_prediction_endpoint\"\n",
    "VECTOR_SEARCH_ENDPOINT_NAME   = \"dbdemos_vs_endpoint\"\n",
    "FEATURE_SERVING_ENDPOINT_NAME = \"dbdemos_iot_turbine_feature_endpoint\"\n",
    "\n",
    "volume_name = \"turbine_raw_landing\"\n",
    "model_name = \"dbdemos_turbine_maintenance\"\n",
    "agent_name = \"dbdemos_agent_prescriptive_maintenance\""
   ]
  }
 ],
 "metadata": {
  "application/vnd.databricks.v1+notebook": {
   "computePreferences": null,
   "dashboards": [],
   "environmentMetadata": {
    "environment_version": "2"
   },
   "inputWidgetPreferences": null,
   "language": "python",
   "notebookMetadata": {
    "pythonIndentUnit": 4
   },
   "notebookName": "config",
   "widgets": {}
  },
  "language_info": {
   "name": "python"
  }
 },
 "nbformat": 4,
 "nbformat_minor": 0
}
