{
 "cells": [
  {
   "cell_type": "markdown",
   "metadata": {
    "application/vnd.databricks.v1+cell": {
     "cellMetadata": {},
     "inputWidgets": {},
     "nuid": "38a9b45f-5417-46d2-8ad9-0716445fc678",
     "showTitle": false,
     "tableResultSettingsMap": {},
     "title": ""
    }
   },
   "source": [
    "# Deploying the Agent System for Prescriptive Maintenance using the Mosaic AI Agent Framework\n",
    "\n",
    "Now that have created the Mosaic AI Tools in Unity Catalog, we will leverage the Mosaic AI Agent Framework to build, deploy and evaluate an AI agent for Prescriptive Maintenance. The Agent Framework comprises a set of tools on Databricks designed to help developers build, deploy, and evaluate production-quality AI agents like Retrieval Augmented Generation (RAG) applications. Moreover, Mosaic AI Agent Evaluation provides a platform to capture and implement human feedback, ground truth, response and request logs, LLM judge feedback, chain traces, and more.\n",
    "\n",
    "<div style=\"float: right; margin-left: 20px; margin-bottom: 40px;\">\n",
    "    <img src=\"https://github.com/Datastohne/demo/blob/main/agent2.png?raw=true\" width=\"900px\">\n",
    "</div>\n",
    "\n",
    "This notebook uses Mosaic AI Agent Framework ([AWS](https://docs.databricks.com/en/generative-ai/retrieval-augmented-generation.html) | [Azure](https://learn.microsoft.com/en-us/azure/databricks/generative-ai/retrieval-augmented-generation)) to deploy the prescriptive maintenance agent defined in [05.2-agent-framework-iot-turbine-prescriptive-maintenance]($./05.2-build-agent-iot-turbine-prescriptive-maintenance) notebook. This notebook does the following:\n",
    "1. Logs the agent to MLflow\n",
    "2. Evaluate the agent with Agent Evaluation\n",
    "3. Registers the agent to Unity Catalog\n",
    "4. Deploys the agent to a Model Serving endpoint\n",
    "\n",
    "\n",
    "This is an high-level overview of the agent system that we will deploy in this demo:\n",
    "\n",
    "\n",
    "The resulting prescriptive maintenance agent is able to perform a variety of prescriptive actions to augment maintenance technicians, including:\n",
    "- Predicting turbine failure\n",
    "- Retrieving specification information about turbines\n",
    "- Generating maintenance work orders using past maintenance reports\n",
    "- Answering follow-up questions about work orders\n",
    "\n",
    "#### Next steps\n",
    "\n",
    "After your agent is deployed, you can chat with it in AI playground to perform additional checks, share it with SMEs in your organization for feedback, or embed it in a production application. See docs ([AWS](https://docs.databricks.com/en/generative-ai/deploy-agent.html) | [Azure](https://learn.microsoft.com/en-us/azure/databricks/generative-ai/deploy-agent)) for details"
   ]
  },
  {
   "cell_type": "markdown",
   "metadata": {
    "application/vnd.databricks.v1+cell": {
     "cellMetadata": {},
     "inputWidgets": {},
     "nuid": "c7252180-6beb-4710-a227-c946425aee77",
     "showTitle": false,
     "tableResultSettingsMap": {},
     "title": null
    }
   },
   "source": [
    "### A cluster has been created for this demo\n",
    "To run this demo, just select the cluster `dbdemos-lakehouse-iot-platform-rishabh_shastry` from the dropdown menu ([open cluster configuration](https://e2-demo-field-eng.cloud.databricks.com/#setting/clusters/0430-201512-50kngnyt/configuration)). <br />\n",
    "*Note: If the cluster was deleted after 30 days, you can re-create it with `dbdemos.create_cluster('lakehouse-iot-platform')` or re-install the demo: `dbdemos.install('lakehouse-iot-platform')`*"
   ]
  },
  {
   "cell_type": "code",
   "execution_count": 0,
   "metadata": {
    "application/vnd.databricks.v1+cell": {
     "cellMetadata": {},
     "inputWidgets": {},
     "nuid": "683d49ba-cfba-46fe-b4d9-34ea45e4dfa8",
     "showTitle": false,
     "tableResultSettingsMap": {},
     "title": ""
    }
   },
   "outputs": [],
   "source": [
    "%pip install -U -qqqq databricks-agents==0.16.0 mlflow==2.20.2 langchain==0.3.19 langgraph-checkpoint==1.0.12  langchain_core langchain-community==0.2.16 langgraph==0.2.16 pydantic langchain_databricks\n",
    "dbutils.library.restartPython()"
   ]
  },
  {
   "cell_type": "code",
   "execution_count": 0,
   "metadata": {
    "application/vnd.databricks.v1+cell": {
     "cellMetadata": {},
     "inputWidgets": {},
     "nuid": "fa2c499a-741f-4b0c-8d7c-b0ea29f9bd9f",
     "showTitle": false,
     "tableResultSettingsMap": {},
     "title": ""
    },
    "jupyter": {
     "outputs_hidden": true
    }
   },
   "outputs": [],
   "source": [
    "%run ../_resources/00-setup $reset_all_data=false"
   ]
  },
  {
   "cell_type": "markdown",
   "metadata": {
    "application/vnd.databricks.v1+cell": {
     "cellMetadata": {},
     "inputWidgets": {},
     "nuid": "d839350b-ef58-4898-b24f-214ed6bfd0a2",
     "showTitle": false,
     "tableResultSettingsMap": {},
     "title": ""
    }
   },
   "source": [
    "### Log the `agent` as an MLflow model\n",
    "Log the agent as code from the [05.2-agent-framework-iot-turbine-prescriptive-maintenance]($./05.2-build-agent-iot-turbine-prescriptive-maintenance) notebook. See [MLflow - Models from Code](https://mlflow.org/docs/latest/models.html#models-from-code)."
   ]
  },
  {
   "cell_type": "code",
   "execution_count": 0,
   "metadata": {
    "application/vnd.databricks.v1+cell": {
     "cellMetadata": {},
     "inputWidgets": {},
     "nuid": "d0732839-d96c-4c36-a2ff-4fb023e49461",
     "showTitle": false,
     "tableResultSettingsMap": {},
     "title": ""
    }
   },
   "outputs": [],
   "source": [
    "# Log the model to MLflow\n",
    "import os\n",
    "import mlflow\n",
    "\n",
    "input_example = {\n",
    "    \"messages\": [{\"role\": \"user\", \"content\": \"Fetch me information and readings for turbine 004a641f-e9e5-9fff-d421-1bf88319420b. Give me maintenance recommendation based on existing reports\"}]\n",
    "}\n",
    "\n",
    "assert os.path.exists('config.yml'), \"Make sure you run the notebook 05.2 first to create the yaml file required in the demo deployment\"\n",
    "\n",
    "with mlflow.start_run():\n",
    "    logged_agent_info = mlflow.langchain.log_model(\n",
    "        lc_model=os.path.join(\n",
    "            os.getcwd(),\n",
    "            \"05.2-build-agent-iot-turbine-prescriptive-maintenance\",\n",
    "        ),\n",
    "        pip_requirements=[\n",
    "            \"langchain==0.2.16\",\n",
    "            \"langchain-community==0.2.16\",\n",
    "            \"langgraph-checkpoint==1.0.12\",\n",
    "            \"langgraph==0.2.16\",\n",
    "            \"pydantic\",\n",
    "            \"langchain_databricks\", # used for the retriever tool\n",
    "        ],\n",
    "        model_config=\"config.yml\",\n",
    "        artifact_path=\"05.2-build-agent-iot-turbine-prescriptive-maintenance\",\n",
    "        input_example=input_example,\n",
    "    )"
   ]
  },
  {
   "cell_type": "markdown",
   "metadata": {
    "application/vnd.databricks.v1+cell": {
     "cellMetadata": {},
     "inputWidgets": {},
     "nuid": "af7e0980-0090-4fec-bc61-3aad316727f6",
     "showTitle": false,
     "tableResultSettingsMap": {},
     "title": ""
    }
   },
   "source": [
    "## Evaluate the agent with [Agent Evaluation](https://docs.databricks.com/generative-ai/agent-evaluation/index.html)\n",
    "\n",
    "You can edit the requests or expected responses in your evaluation dataset and run evaluation as you iterate your agent, leveraging mlflow to track the computed quality metrics."
   ]
  },
  {
   "cell_type": "code",
   "execution_count": 0,
   "metadata": {
    "application/vnd.databricks.v1+cell": {
     "cellMetadata": {},
     "inputWidgets": {},
     "nuid": "97798b32-7025-4e2f-844b-0b04dea91d8f",
     "showTitle": false,
     "tableResultSettingsMap": {},
     "title": ""
    }
   },
   "outputs": [],
   "source": [
    "import pandas as pd\n",
    "\n",
    "eval_examples = [\n",
    "    {\n",
    "        \"request\": {\n",
    "            \"messages\": [\n",
    "                {\n",
    "                    \"role\": \"system\",\n",
    "                    \"content\": \"\"\"Act as an assistant for wind turbine maintenance technicians.\\n\n",
    "                                These are the tools you can use to answer questions:\n",
    "                                \\n- turbine_maintenance_predictor: takes as input sensor_readings and predicts whether or not a turbine is at risk of failure.\n",
    "                                \\n- turbine_maintenance_reports_predictor: takes sensor_readings as input and retrieves historical maintenance reports with similar sensor_readings. Critical for prescriptive maintenance.\n",
    "                                \\n- turbine_specifications_retriever: takes turbine_id as input and retrieves turbine specifications.\n",
    "                                \n",
    "\n",
    "                                \\nIf a user gives you a turbine ID, first look up that turbine's information with turbine_specifications_retriever. \n",
    "                                \\nIf a user asks for recommendations on how to do maintenance on a turbine, use the turbine reading and search for similar reports matching the turbine readings using the  turbine_maintenance_reports_predictor. Use the report retrived from other turbines to understand what could be happening and suggest maintenance recommendation.\n",
    "                                \"\"\"\n",
    "                },\n",
    "                {\n",
    "                    \"role\": \"user\",\n",
    "                    \"content\": \"Fetch me information and readings for turbine 004a641f-e9e5-9fff-d421-1bf88319420b. Give me maintenance recommendation based on existing reports\"\n",
    "                }\n",
    "            ]\n",
    "        },\n",
    "        \"expected_response\": \"\"\"Based on the turbine specifications and maintenance reports, it appears that the turbine 004a641f-e9e5-9fff-d421-1bf88319420b may be experiencing issues with its pitch system, gearbox, or blades. The reports suggest that the turbine may be experiencing pitch system misalignment, high gearbox temperature, or blade delamination.\n",
    "To address these issues, it is recommended to conduct comprehensive diagnostic tests of the pitch system, inspect the gearbox internals, and perform non-destructive testing on the blades. Additionally, regular maintenance procedures such as lubrication of moving parts, inspection of hydraulic lines, and vibration analysis can help prevent future malfunctions.\n",
    "Specifically, the recommended solutions include:\n",
    "Conducting comprehensive diagnostic tests of the pitch system and repairing or replacing faulty components\n",
    "Inspecting the gearbox internals and replacing worn-out bearings, realigning gear meshes, and replenishing gearbox oil\n",
    "Conducting non-destructive testing on the blades and repairing delaminated sections using composite patching materials or adhesive bonding techniques\n",
    "Implementing regular maintenance procedures such as lubrication, inspection, and vibration analysis to prevent future issues.\n",
    "It is also important to monitor the turbine's condition regularly and perform preventative maintenance to address any emerging issues promptly.\"\"\"\n",
    "    }\n",
    "]\n",
    "\n",
    "eval_dataset = pd.DataFrame(eval_examples)\n",
    "display(eval_dataset)"
   ]
  },
  {
   "cell_type": "code",
   "execution_count": 0,
   "metadata": {
    "application/vnd.databricks.v1+cell": {
     "cellMetadata": {},
     "inputWidgets": {},
     "nuid": "d43a4e7c-5e3c-4b4f-abc3-45ac1e278f17",
     "showTitle": false,
     "tableResultSettingsMap": {},
     "title": ""
    }
   },
   "outputs": [],
   "source": [
    "import mlflow\n",
    "import pandas as pd\n",
    "\n",
    "with mlflow.start_run(run_id=logged_agent_info.run_id):\n",
    "    eval_results = mlflow.evaluate(\n",
    "        f\"runs:/{logged_agent_info.run_id}/05.2-build-agent-iot-turbine-prescriptive-maintenance\",  # replace `chain` with artifact_path that you used when calling log_model.\n",
    "        data=eval_dataset,  # Your evaluation dataset\n",
    "        model_type=\"databricks-agent\",  # Enable Mosaic AI Agent Evaluation\n",
    "    )\n",
    "\n",
    "# Review the evaluation results in the MLFLow UI (see console output), or access them in place:\n",
    "display(eval_results.tables['eval_results'])"
   ]
  },
  {
   "cell_type": "markdown",
   "metadata": {
    "application/vnd.databricks.v1+cell": {
     "cellMetadata": {},
     "inputWidgets": {},
     "nuid": "3a777f7e-8c55-4a0e-b60f-516438c874ec",
     "showTitle": false,
     "tableResultSettingsMap": {},
     "title": ""
    }
   },
   "source": [
    "## Register the model to Unity Catalog\n",
    "\n",
    "Update the `catalog`, `schema`, and `model_name` below to register the MLflow model to Unity Catalog."
   ]
  },
  {
   "cell_type": "code",
   "execution_count": 0,
   "metadata": {
    "application/vnd.databricks.v1+cell": {
     "cellMetadata": {},
     "inputWidgets": {},
     "nuid": "95e01664-91cf-4f0d-83dc-ffad6e35bfbb",
     "showTitle": false,
     "tableResultSettingsMap": {},
     "title": ""
    }
   },
   "outputs": [],
   "source": [
    "mlflow.set_registry_uri(\"databricks-uc\")\n",
    "UC_MODEL_NAME = f\"{catalog}.{db}.{agent_name}\"\n",
    "\n",
    "# register the model to UC\n",
    "uc_registered_model_info = mlflow.register_model(model_uri=logged_agent_info.model_uri, name=UC_MODEL_NAME)"
   ]
  },
  {
   "cell_type": "markdown",
   "metadata": {
    "application/vnd.databricks.v1+cell": {
     "cellMetadata": {},
     "inputWidgets": {},
     "nuid": "9b51c031-41d6-4929-bd20-0bb2a0edd706",
     "showTitle": false,
     "tableResultSettingsMap": {},
     "title": ""
    }
   },
   "source": [
    "## Deploy the agent\n",
    "For PyFunc flavored agents, you must manually specify any resource dependencies during logging of the deployed agent in the resources parameter (see above under: \"Log the `agent` as an MLflow model\"). During deployment, databricks.agents.deploy creates an M2M OAuth token with access to the resources specified in the resources parameter, and deploys it to the deployed agent. For the DBSQL [vector_search function](https://docs.databricks.com/en/sql/language-manual/functions/vector_search.html) automatic authentication passthrough is supported. However, `vector_search function` doesn't support `DIRECT ACCESS` indexes (which we created before in [05.1-ai-tools-iot-turbine-prescriptive-maintenance]($./05.1-ai-tools-iot-turbine-prescriptive-maintenance) notebook). Therefore, we have to reference the secret in the model serving by specifying the secrets-based `environment vars`. This allows credentials to be fetched at serving time from model serving endpoints (see [Documentation](https://docs.databricks.com/en/machine-learning/model-serving/store-env-variable-model-serving.html#add-secrets-based-environment-variables))."
   ]
  },
  {
   "cell_type": "code",
   "execution_count": 0,
   "metadata": {
    "application/vnd.databricks.v1+cell": {
     "cellMetadata": {},
     "inputWidgets": {},
     "nuid": "c731b966-4a8b-4755-96a6-04121a18e4b7",
     "showTitle": false,
     "tableResultSettingsMap": {},
     "title": ""
    }
   },
   "outputs": [],
   "source": [
    "from databricks import agents\n",
    "\n",
    "# Deploy the model to the review app and a model serving endpoint\n",
    "agents.deploy(UC_MODEL_NAME, uc_registered_model_info.version, tags = {\"endpointSource\": \"playground\"})"
   ]
  },
  {
   "cell_type": "markdown",
   "metadata": {
    "application/vnd.databricks.v1+cell": {
     "cellMetadata": {},
     "inputWidgets": {},
     "nuid": "3d170f69-839c-4059-bdb3-2a49de622fdf",
     "showTitle": false,
     "tableResultSettingsMap": {},
     "title": ""
    }
   },
   "source": [
    "During deployment a system service principal was automatically created. To be able to query the agent from the Model Serving endpoint or the AI playground, we have to give this service principal read access to the secret scope. The system service principal ID can be found in the model serving endpoint events, which looks like this:\n",
    "\n",
    "<br>\n",
    "\n",
    "<div style=\"text-align: center;\">\n",
    "    <img src=\"https://github.com/Datastohne/demo/blob/main/Screenshot%202024-10-22%20at%2018.17.35.png?raw=true\" width=\"900px\">\n",
    "</div>"
   ]
  },
  {
   "cell_type": "markdown",
   "metadata": {
    "application/vnd.databricks.v1+cell": {
     "cellMetadata": {},
     "inputWidgets": {},
     "nuid": "1fcafc7e-1fc9-4d53-859d-a708a33a1831",
     "showTitle": false,
     "tableResultSettingsMap": {},
     "title": ""
    }
   },
   "source": [
    "# Examples in Databricks AI Playground\n",
    "\n",
    "Now you can chat with it in AI playground to perform additional checks, share it with SMEs in your organization for feedback, or embed it in a production application. See docs ([AWS](https://docs.databricks.com/en/generative-ai/deploy-agent.html) | [Azure](https://learn.microsoft.com/en-us/azure/databricks/generative-ai/deploy-agent)) for detail. Please find below some examples questions the prescriptive maintenance agent can answer.\n",
    "\n",
    "---\n",
    "\n",
    "##### Example 1: Retrieve turbine specifications  \n",
    "*Question:* \"What's the model type of turbine with ID X?\"\n",
    "\n",
    "<div style=\"text-align: center;\">\n",
    "    <img src=\"https://github.com/Datastohne/demo/blob/main/model.gif?raw=true\" width=\"600px\">\n",
    "</div>\n",
    "\n",
    "---\n",
    "\n",
    "##### Example 2: Generate prescriptive work orders\n",
    "*Question:* \"Generate a work order if the turbine is predicted to be at risk of failure.\"\n",
    "\n",
    "<div style=\"text-align: center;\">\n",
    "    <img src=\"https://github.com/Datastohne/demo/blob/main/work%20order.gif?raw=true\" width=\"600px\">\n",
    "</div>\n",
    "\n",
    "---\n",
    "\n",
    "##### Example 3: Answer follow-up Questions  \n",
    "*Question:* \"How can I perform task Y from the work order?\"\n",
    "\n",
    "<div style=\"text-align: center;\">\n",
    "    <img src=\"https://github.com/Datastohne/demo/blob/main/follow-up%20question.gif?raw=true\" width=\"600px\">\n",
    "</div>"
   ]
  },
  {
   "cell_type": "markdown",
   "metadata": {
    "application/vnd.databricks.v1+cell": {
     "cellMetadata": {},
     "inputWidgets": {},
     "nuid": "50f895f0-e077-4ed3-b20c-d8ac5c47edf9",
     "showTitle": false,
     "tableResultSettingsMap": {},
     "title": ""
    }
   },
   "source": [
    "## Congratulations! You have deployed your first Agent System for Prescriptive Maintenance! \n",
    "\n",
    "We have seen how Databricks Mosaic AI provides all the capabilities needed to move these components to production quickly and cost-effectively, while maintaining complete control and governance:\n",
    "- Simplifying model deployment by creating an API endpoint.\n",
    "- Scaling similarity search against unstructured data to support billions of embeddings.\n",
    "- Leveraging structured data by serving features on an endpoint.\n",
    "- Deploying open models, while keeping the flexibility to swap them as needed.\n",
    "- Integrating everything using popular orchestration frameworks like Langchain or LlamaIndex.\n",
    "- Managing AI tools using Unity Catalog for security and re-use.\n",
    "- Composing the AI system with the Mosaic AI Agent Framework."
   ]
  },
  {
   "cell_type": "markdown",
   "metadata": {
    "application/vnd.databricks.v1+cell": {
     "cellMetadata": {},
     "inputWidgets": {},
     "nuid": "0ff53af8-5cc4-46aa-998e-83c02b4d0335",
     "showTitle": false,
     "tableResultSettingsMap": {},
     "title": ""
    }
   },
   "source": [
    "\n",
    "## Potential next steps:\n",
    "Enhance the Agent System by incorporating:\n",
    "- **Automated Technician Assignment for Work Orders:** Automatically asign maintenance work orders to technicians based on availability, distance to turbines and skill set.\n",
    "- **Automated Field Service Route Optimization:** optimizes field service routes for technicians to execute the maintenance work orders based on priority levels of work orders, travel time and real-time traffic conditions."
   ]
  },
  {
   "cell_type": "markdown",
   "metadata": {
    "application/vnd.databricks.v1+cell": {
     "cellMetadata": {},
     "inputWidgets": {},
     "nuid": "4405c852-d63a-43d3-a471-9abba882587f",
     "showTitle": false,
     "tableResultSettingsMap": {},
     "title": ""
    }
   },
   "source": [
    "<a dbdemos-dashboard-id=\"turbine-predictive\" href=\"/sql/dashboardsv3/01f02600475911e1ae08e0dd7973aba4\">Open the Prescriptive Maintenance AI/BI dashboard</a> | [Go back to the introduction]($../00-IOT-wind-turbine-introduction-DI-platform)"
   ]
  }
 ],
 "metadata": {
  "application/vnd.databricks.v1+notebook": {
   "computePreferences": null,
   "dashboards": [],
   "environmentMetadata": {
    "environment_version": "2"
   },
   "inputWidgetPreferences": null,
   "language": "python",
   "notebookMetadata": {
    "pythonIndentUnit": 2
   },
   "notebookName": "05.3-deploy-agent-iot-turbine-prescriptive-maintenance",
   "widgets": {}
  },
  "language_info": {
   "name": "python"
  }
 },
 "nbformat": 4,
 "nbformat_minor": 0
}
